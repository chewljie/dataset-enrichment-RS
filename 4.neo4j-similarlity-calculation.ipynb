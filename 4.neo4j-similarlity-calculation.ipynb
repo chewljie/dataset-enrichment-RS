{
 "cells": [
  {
   "cell_type": "markdown",
   "metadata": {},
   "source": [
    "## Semantic similarity calculation from Neo4j\n",
    "\n",
    "Neo4j is a graph database where all the attributes are connected with each oher\n",
    "We using neo4j as a database and calculate the similarity of each attribute"
   ]
  },
  {
   "cell_type": "code",
   "execution_count": null,
   "metadata": {
    "scrolled": true
   },
   "outputs": [],
   "source": [
    "from py2neo import Graph, Node\n",
    "import pandas as pd\n",
    "import time\n",
    "import math\n",
    "\n",
    "USERNAME = \"neo4j\"\n",
    "PASS = \"admin12345\" \n",
    "\n",
    "graph = Graph(\"bolt://localhost:7687\", username = USERNAME, password = PASS)"
   ]
  },
  {
   "cell_type": "code",
   "execution_count": 2,
   "metadata": {},
   "outputs": [
    {
     "data": {
      "text/plain": [
       "[{'a.id': 1, 'a.title': 'Toy Story (1995)'},\n",
       " {'a.id': 2, 'a.title': 'GoldenEye (1995)'},\n",
       " {'a.id': 3, 'a.title': 'Four Rooms (1995)'},\n",
       " {'a.id': 4, 'a.title': 'Get Shorty (1995)'},\n",
       " {'a.id': 5, 'a.title': 'Copycat (1995)'},\n",
       " {'a.id': 6,\n",
       "  'a.title': 'Shanghai Triad (Yao a yao yao dao waipo qiao) (1995)'},\n",
       " {'a.id': 7, 'a.title': 'Twelve Monkeys (1995)'},\n",
       " {'a.id': 8, 'a.title': 'Babe (1995)'},\n",
       " {'a.id': 9, 'a.title': 'Dead Man Walking (1995)'},\n",
       " {'a.id': 10, 'a.title': 'Richard III (1995)'}]"
      ]
     },
     "execution_count": 2,
     "metadata": {},
     "output_type": "execute_result"
    }
   ],
   "source": [
    "graph.run(\"MATCH (a:Movie) RETURN a.id, a.title ORDER BY a.id LIMIT 10\").data()"
   ]
  },
  {
   "cell_type": "code",
   "execution_count": 2,
   "metadata": {},
   "outputs": [],
   "source": [
    "##geting top 20 similar user only\n",
    "user_sim_movie20 = graph.run(\n",
    "    '''\n",
    "    CALL gds.nodeSimilarity.stream('myGraph', { topK: 20 })\n",
    "    YIELD node1, node2, similarity\n",
    "    RETURN gds.util.asNode(node1).id AS Person1, gds.util.asNode(node2).id AS Person2, similarity\n",
    "    ORDER BY similarity DESCENDING, Person1, Person2\n",
    "    '''\n",
    "    ).to_data_frame()\n",
    "\n",
    "user_sim_movie20.to_csv(r'processed-data\\similarity-calculated\\user_sim.csv', index=False)"
   ]
  },
  {
   "cell_type": "code",
   "execution_count": 59,
   "metadata": {},
   "outputs": [],
   "source": [
    "def getsimilarity_all_genre():\n",
    "\n",
    "    a = pd.DataFrame(graph.run(\n",
    "    '''\n",
    "    MATCH (p:Movie)-[:IN_GENRE]->(Genre)\n",
    "    WITH {item:id(p), categories: collect(id(Genre))} as userData\n",
    "    WITH collect(userData) as data\n",
    "    CALL algo.similarity.jaccard.stream(data)\n",
    "    YIELD item1, item2, count1, count2, intersection, similarity\n",
    "    RETURN algo.asNode(item1).id AS from, algo.asNode(item2).id AS to, intersection, similarity\n",
    "    ORDER BY similarity DESC\n",
    "    '''\n",
    "    ))\n",
    "    a.columns=['From','To','int', \"sim\"]\n",
    "\n",
    "    return a\n",
    "\n",
    "\n",
    "def getsimilarity_all_actor():\n",
    "\n",
    "    a = pd.DataFrame(graph.run(\n",
    "    '''\n",
    "    MATCH (p:Movie)-[:ACTED_BY]->(Actor)\n",
    "    WITH {item:id(p), categories: collect(id(Actor))} as userData\n",
    "    WITH collect(userData) as data\n",
    "    CALL algo.similarity.jaccard.stream(data)\n",
    "    YIELD item1, item2, count1, count2, intersection, similarity\n",
    "    RETURN algo.asNode(item1).id AS from, algo.asNode(item2).id AS to, intersection, similarity\n",
    "    ORDER BY similarity DESC\n",
    "    '''\n",
    "    ))\n",
    "    a.columns=['From','To','int', \"sim\"]\n",
    "\n",
    "    return a\n",
    "\n",
    "def getsimilarity_all_director():\n",
    "    \n",
    "    a = pd.DataFrame(graph.run(\n",
    "    '''\n",
    "    MATCH (p:Movie)-[:DIRECTED_BY]->(Director)\n",
    "    WITH {item:id(p), categories: collect(id(Director))} as userData\n",
    "    WITH collect(userData) as data\n",
    "    CALL algo.similarity.jaccard.stream(data)\n",
    "    YIELD item1, item2, count1, count2, intersection, similarity\n",
    "    RETURN algo.asNode(item1).id AS from, algo.asNode(item2).id AS to, intersection, similarity\n",
    "    ORDER BY similarity DESC\n",
    "    '''\n",
    "    ))\n",
    "    a.columns=['From','To','int', \"sim\"]\n",
    "\n",
    "    return a\n",
    "\n",
    "\n",
    "def getsimilarity_all_country():\n",
    "    \n",
    "    a = pd.DataFrame(graph.run(\n",
    "    '''\n",
    "    MATCH (p:Movie)-[:IN_COUNTRIES]->(Country)\n",
    "    WITH {item:id(p), categories: collect(id(Country))} as userData\n",
    "    WITH collect(userData) as data\n",
    "    CALL algo.similarity.jaccard.stream(data)\n",
    "    YIELD item1, item2, count1, count2, intersection, similarity\n",
    "    RETURN algo.asNode(item1).id AS from, algo.asNode(item2).id AS to, intersection, similarity\n",
    "    ORDER BY similarity DESC\n",
    "    '''\n",
    "    ))\n",
    "    a.columns=['From','To','int', \"sim\"]\n",
    "\n",
    "    return a\n"
   ]
  },
  {
   "cell_type": "code",
   "execution_count": null,
   "metadata": {
    "scrolled": false
   },
   "outputs": [],
   "source": [
    "start_time = time.time()\n",
    "allgenre = getsimilarity_all_genre()\n",
    "print(\"-genre-- %s seconds ---\" % (time.time() - start_time))\n",
    "\n",
    "start_time = time.time()\n",
    "allactor = getsimilarity_all_actor()\n",
    "print(\"-actor-- %s seconds ---\" % (time.time() - start_time))\n",
    "\n",
    "start_time = time.time()\n",
    "alldirector = getsimilarity_all_director()\n",
    "print(\"-director-- %s seconds ---\" % (time.time() - start_time))\n",
    "\n",
    "start_time = time.time()\n",
    "allcountry = getsimilarity_all_country()\n",
    "print(\"-country-- %s seconds ---\" % (time.time() - start_time))\n"
   ]
  },
  {
   "cell_type": "code",
   "execution_count": null,
   "metadata": {},
   "outputs": [],
   "source": [
    "allgenre = allgenre.sort_values(by=['From','To'])\n",
    "allactor = allactor.sort_values(by=['From','To'])\n",
    "alldirector = alldirector.sort_values(by=['From','To'])\n",
    "allcountry = allcountry.sort_values(by=['From','To'])"
   ]
  },
  {
   "cell_type": "code",
   "execution_count": null,
   "metadata": {
    "scrolled": false
   },
   "outputs": [],
   "source": [
    "allgenre.columns=['From','To','int', \"genre_sim\"]\n",
    "allactor.columns=['From','To','int', \"actor_sim\"]\n",
    "alldirector.columns=['From','To','int', \"director_sim\"]\n",
    "allcountry.columns=['From','To','int', \"country_sim\"]\n",
    "\n",
    "allgenre.drop_duplicates(subset=None, keep='first', inplace=True)\n",
    "allactor.drop_duplicates(subset=None, keep='first', inplace=True)\n",
    "alldirector.drop_duplicates(subset=None, keep='first', inplace=True)\n",
    "allcountry.drop_duplicates(subset=None, keep='first', inplace=True)\n",
    "\n",
    "allgenre.drop(columns=['int'],inplace=True)\n",
    "allactor.drop(columns=['int'],inplace=True)\n",
    "alldirector.drop(columns=['int'],inplace=True)\n",
    "allcountry.drop(columns=['int'],inplace=True)"
   ]
  },
  {
   "cell_type": "code",
   "execution_count": null,
   "metadata": {},
   "outputs": [],
   "source": [
    "allgenre.to_csv(r'processed-data/similarity-calculated/allgenre2.csv', index=False)\n",
    "allactor.to_csv(r'processed-data/similarity-calculated/allactor2.csv', index=False)\n",
    "alldirector.to_csv(r'processed-data/similarity-calculated/alldirector2.csv', index=False)\n",
    "allcountry.to_csv(r'processed-data/similarity-calculated/allcountry2.csv', index=False)"
   ]
  }
 ],
 "metadata": {
  "kernelspec": {
   "display_name": "Python 3",
   "language": "python",
   "name": "python3"
  },
  "language_info": {
   "codemirror_mode": {
    "name": "ipython",
    "version": 3
   },
   "file_extension": ".py",
   "mimetype": "text/x-python",
   "name": "python",
   "nbconvert_exporter": "python",
   "pygments_lexer": "ipython3",
   "version": "3.8.5"
  }
 },
 "nbformat": 4,
 "nbformat_minor": 2
}
